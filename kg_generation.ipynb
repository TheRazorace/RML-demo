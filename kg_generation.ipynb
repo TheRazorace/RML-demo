{
 "cells": [
  {
   "cell_type": "markdown",
   "metadata": {},
   "source": [
    "We first install yarrrml-translator and morph-kgc.\n",
    "\n",
    "Yarrrml-translator is used to generate RML mappings.\n",
    "\n",
    "Morph-kgc is used to generate the knowledge graph.\n"
   ]
  },
  {
   "cell_type": "code",
   "execution_count": null,
   "metadata": {},
   "outputs": [],
   "source": [
    "!pip install morph-kgc\n",
    "!pip install yarrrml-translator\n",
    "!pip install rdflib"
   ]
  },
  {
   "cell_type": "markdown",
   "metadata": {},
   "source": [
    "We import the packages:"
   ]
  },
  {
   "cell_type": "code",
   "execution_count": 18,
   "metadata": {},
   "outputs": [],
   "source": [
    "import morph_kgc\n",
    "import yaml\n",
    "from yarrrml_translator import translate\n",
    "from rdflib import Graph, Namespace"
   ]
  },
  {
   "cell_type": "markdown",
   "metadata": {},
   "source": [
    "We first generate the RML mappings using the YARRRML file we created:"
   ]
  },
  {
   "cell_type": "code",
   "execution_count": null,
   "metadata": {},
   "outputs": [],
   "source": [
    "mapping = translate(yaml.safe_load(open(\"./mappings.yml\")))\n",
    "output_file = open(\"./mapping_rml.ttl\", \"w\")\n",
    "output_file.write(mapping)\n",
    "output_file.close()"
   ]
  },
  {
   "cell_type": "markdown",
   "metadata": {},
   "source": [
    "Then, we generate the Knowledge Graph using Morph-kgc and the RML mappings:"
   ]
  },
  {
   "cell_type": "code",
   "execution_count": null,
   "metadata": {},
   "outputs": [],
   "source": [
    "g_rdflib = morph_kgc.materialize('./config.ini')\n",
    "\n",
    "insta = Namespace(\"http://instagram.com/data/\")\n",
    "g_rdflib.bind(\"insta\", insta)\n",
    "\n",
    "g_rdflib.serialize(destination=\"knowledge_graph.ttl\")\n",
    "\n",
    "for s,p,o in g_rdflib.triples((None, None, None)):\n",
    "  print(s,p,o)"
   ]
  }
 ],
 "metadata": {
  "kernelspec": {
   "display_name": "Python 3.9.12 ('base')",
   "language": "python",
   "name": "python3"
  },
  "language_info": {
   "codemirror_mode": {
    "name": "ipython",
    "version": 3
   },
   "file_extension": ".py",
   "mimetype": "text/x-python",
   "name": "python",
   "nbconvert_exporter": "python",
   "pygments_lexer": "ipython3",
   "version": "3.9.12"
  },
  "orig_nbformat": 4,
  "vscode": {
   "interpreter": {
    "hash": "40d3a090f54c6569ab1632332b64b2c03c39dcf918b08424e98f38b5ae0af88f"
   }
  }
 },
 "nbformat": 4,
 "nbformat_minor": 2
}
